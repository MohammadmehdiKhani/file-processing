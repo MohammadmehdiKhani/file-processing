{
 "cells": [
  {
   "cell_type": "markdown",
   "metadata": {},
   "source": [
    "## Scan files in given adderess"
   ]
  },
  {
   "cell_type": "code",
   "execution_count": 2,
   "metadata": {
    "collapsed": true
   },
   "outputs": [
    {
     "ename": "UnicodeEncodeError",
     "evalue": "'charmap' codec can't encode characters in position 0-4: character maps to <undefined>",
     "output_type": "error",
     "traceback": [
      "\u001b[1;31m---------------------------------------------------------------------------\u001b[0m",
      "\u001b[1;31mUnicodeEncodeError\u001b[0m                        Traceback (most recent call last)",
      "Input \u001b[1;32mIn [2]\u001b[0m, in \u001b[0;36m<module>\u001b[1;34m\u001b[0m\n\u001b[0;32m     17\u001b[0m folder \u001b[38;5;241m=\u001b[39m path\u001b[38;5;241m.\u001b[39msplit(\u001b[38;5;124m'\u001b[39m\u001b[38;5;130;01m\\\\\u001b[39;00m\u001b[38;5;124m'\u001b[39m)[\u001b[38;5;241m-\u001b[39m\u001b[38;5;241m1\u001b[39m]\n\u001b[0;32m     18\u001b[0m size \u001b[38;5;241m=\u001b[39m os\u001b[38;5;241m.\u001b[39mpath\u001b[38;5;241m.\u001b[39mgetsize(path \u001b[38;5;241m+\u001b[39m \u001b[38;5;124m'\u001b[39m\u001b[38;5;124m/\u001b[39m\u001b[38;5;124m'\u001b[39m \u001b[38;5;241m+\u001b[39m f)\n\u001b[1;32m---> 19\u001b[0m \u001b[43mwriter\u001b[49m\u001b[38;5;241;43m.\u001b[39;49m\u001b[43mwriterow\u001b[49m\u001b[43m(\u001b[49m\u001b[43m[\u001b[49m\u001b[38;5;124;43m\"\u001b[39;49m\u001b[38;5;132;43;01m%s\u001b[39;49;00m\u001b[38;5;124;43m\"\u001b[39;49m\u001b[43m \u001b[49m\u001b[38;5;241;43m%\u001b[39;49m\u001b[43m \u001b[49m\u001b[43mfilename\u001b[49m\u001b[43m,\u001b[49m\u001b[43m \u001b[49m\u001b[38;5;124;43m\"\u001b[39;49m\u001b[38;5;132;43;01m%s\u001b[39;49;00m\u001b[38;5;124;43m\"\u001b[39;49m\u001b[43m \u001b[49m\u001b[38;5;241;43m%\u001b[39;49m\u001b[43m \u001b[49m\u001b[43mcreation\u001b[49m\u001b[43m,\u001b[49m\u001b[43m \u001b[49m\u001b[38;5;124;43m\"\u001b[39;49m\u001b[38;5;132;43;01m%s\u001b[39;49;00m\u001b[38;5;124;43m\"\u001b[39;49m\u001b[43m \u001b[49m\u001b[38;5;241;43m%\u001b[39;49m\u001b[43m \u001b[49m\u001b[38;5;28;43mformat\u001b[39;49m\u001b[43m,\u001b[49m\u001b[43m \u001b[49m\u001b[38;5;124;43m\"\u001b[39;49m\u001b[38;5;132;43;01m%s\u001b[39;49;00m\u001b[38;5;124;43m\"\u001b[39;49m\u001b[43m \u001b[49m\u001b[38;5;241;43m%\u001b[39;49m\u001b[43m \u001b[49m\u001b[43mmodification\u001b[49m\u001b[43m,\u001b[49m\u001b[43m \u001b[49m\u001b[38;5;124;43m\"\u001b[39;49m\u001b[38;5;132;43;01m%s\u001b[39;49;00m\u001b[38;5;124;43m\"\u001b[39;49m\u001b[43m \u001b[49m\u001b[38;5;241;43m%\u001b[39;49m\u001b[43m \u001b[49m\u001b[43mfolder\u001b[49m\u001b[43m,\u001b[49m\u001b[43m \u001b[49m\u001b[38;5;124;43m\"\u001b[39;49m\u001b[38;5;132;43;01m%s\u001b[39;49;00m\u001b[38;5;124;43m\"\u001b[39;49m\u001b[43m \u001b[49m\u001b[38;5;241;43m%\u001b[39;49m\u001b[43m  \u001b[49m\u001b[43msize\u001b[49m\u001b[43m]\u001b[49m\u001b[43m)\u001b[49m\n",
      "File \u001b[1;32mC:\\Program Files\\Python310\\lib\\encodings\\cp1252.py:19\u001b[0m, in \u001b[0;36mIncrementalEncoder.encode\u001b[1;34m(self, input, final)\u001b[0m\n\u001b[0;32m     18\u001b[0m \u001b[38;5;28;01mdef\u001b[39;00m \u001b[38;5;21mencode\u001b[39m(\u001b[38;5;28mself\u001b[39m, \u001b[38;5;28minput\u001b[39m, final\u001b[38;5;241m=\u001b[39m\u001b[38;5;28;01mFalse\u001b[39;00m):\n\u001b[1;32m---> 19\u001b[0m     \u001b[38;5;28;01mreturn\u001b[39;00m \u001b[43mcodecs\u001b[49m\u001b[38;5;241;43m.\u001b[39;49m\u001b[43mcharmap_encode\u001b[49m\u001b[43m(\u001b[49m\u001b[38;5;28;43minput\u001b[39;49m\u001b[43m,\u001b[49m\u001b[38;5;28;43mself\u001b[39;49m\u001b[38;5;241;43m.\u001b[39;49m\u001b[43merrors\u001b[49m\u001b[43m,\u001b[49m\u001b[43mencoding_table\u001b[49m\u001b[43m)\u001b[49m[\u001b[38;5;241m0\u001b[39m]\n",
      "\u001b[1;31mUnicodeEncodeError\u001b[0m: 'charmap' codec can't encode characters in position 0-4: character maps to <undefined>"
     ]
    }
   ],
   "source": [
    "import os\n",
    "import csv\n",
    "import datetime\n",
    "import time\n",
    "\n",
    "address = \"D:\\SBU\\Term 8\"\n",
    "\n",
    "with open('out.csv', mode='w' , newline = '') as out:\n",
    "    writer = csv.writer(out, delimiter = ',',quotechar = '\"', quoting = csv.QUOTE_MINIMAL)\n",
    "    writer.writerow(['name', 'creation', 'format', 'modification', 'folder' ,'size'])\n",
    "    for path,dirs,files in os.walk(address):\n",
    "        for f in sorted(files):\n",
    "            filename = os.path.splitext(f)[0]\n",
    "            modification = datetime.datetime.fromtimestamp(os.path.getmtime(path + '/' + f))\n",
    "            format = os.path.splitext(f)[1]\n",
    "            creation = datetime.datetime.fromtimestamp(os.path.getctime(path + '/' + f))\n",
    "            folder = path.split('\\\\')[-1]\n",
    "            size = os.path.getsize(path + '/' + f)\n",
    "            writer.writerow([\"%s\" % filename, \"%s\" % creation, \"%s\" % format, \"%s\" % modification, \"%s\" % folder, \"%s\" %  size])"
   ]
  },
  {
   "cell_type": "markdown",
   "metadata": {},
   "source": [
    "## Import Pandas, Numpy and set rcParams"
   ]
  },
  {
   "cell_type": "code",
   "execution_count": 3,
   "metadata": {},
   "outputs": [],
   "source": [
    "import pandas as pd\n",
    "import numpy as np\n",
    "import matplotlib.pyplot as plt\n",
    "import matplotlib as mpl\n",
    "from cycler import cycler\n",
    "import matplotlib\n",
    "import seaborn as sns\n",
    "matplotlib.rcParams['font.size'] = 18\n",
    "matplotlib.rcParams['figure.dpi'] = 200\n",
    "matplotlib.rcParams['font.family'] = 'tahoma'\n",
    "matplotlib.rcParams['font.weight'] = 'normal'\n",
    "matplotlib.rcParams['figure.figsize'] = (80,60)\n",
    "\n",
    "\n",
    "\n"
   ]
  },
  {
   "cell_type": "markdown",
   "metadata": {},
   "source": [
    "## Read CSV file and create Datagram"
   ]
  },
  {
   "cell_type": "code",
   "execution_count": 4,
   "metadata": {},
   "outputs": [],
   "source": [
    "df = pd.read_csv('out.csv')\n",
    "df = df.dropna()"
   ]
  },
  {
   "cell_type": "markdown",
   "metadata": {},
   "source": [
    "### make new dataframe with conditioning"
   ]
  },
  {
   "cell_type": "code",
   "execution_count": 5,
   "metadata": {},
   "outputs": [
    {
     "data": {
      "text/html": [
       "<div>\n",
       "<style scoped>\n",
       "    .dataframe tbody tr th:only-of-type {\n",
       "        vertical-align: middle;\n",
       "    }\n",
       "\n",
       "    .dataframe tbody tr th {\n",
       "        vertical-align: top;\n",
       "    }\n",
       "\n",
       "    .dataframe thead th {\n",
       "        text-align: right;\n",
       "    }\n",
       "</style>\n",
       "<table border=\"1\" class=\"dataframe\">\n",
       "  <thead>\n",
       "    <tr style=\"text-align: right;\">\n",
       "      <th></th>\n",
       "      <th>name</th>\n",
       "      <th>creation</th>\n",
       "      <th>format</th>\n",
       "      <th>modification</th>\n",
       "      <th>folder</th>\n",
       "      <th>size</th>\n",
       "    </tr>\n",
       "  </thead>\n",
       "  <tbody>\n",
       "    <tr>\n",
       "      <th>1</th>\n",
       "      <td>EXAM_DBLAB</td>\n",
       "      <td>2022-05-09 16:06:06.967873</td>\n",
       "      <td>.pdf</td>\n",
       "      <td>2021-12-28 18:43:58.664631</td>\n",
       "      <td>exam</td>\n",
       "      <td>226171</td>\n",
       "    </tr>\n",
       "    <tr>\n",
       "      <th>2</th>\n",
       "      <td>EXAM_DBLAB_97243081</td>\n",
       "      <td>2022-05-09 16:06:07.079806</td>\n",
       "      <td>.docx</td>\n",
       "      <td>2021-12-29 23:56:50.241467</td>\n",
       "      <td>exam</td>\n",
       "      <td>22050</td>\n",
       "    </tr>\n",
       "    <tr>\n",
       "      <th>3</th>\n",
       "      <td>EXAM_DBLAB_97243081</td>\n",
       "      <td>2022-05-09 16:06:07.197753</td>\n",
       "      <td>.pdf</td>\n",
       "      <td>2021-12-29 23:57:26.642171</td>\n",
       "      <td>exam</td>\n",
       "      <td>697852</td>\n",
       "    </tr>\n",
       "    <tr>\n",
       "      <th>4</th>\n",
       "      <td>Homework_01</td>\n",
       "      <td>2022-05-09 16:06:07.412600</td>\n",
       "      <td>.pdf</td>\n",
       "      <td>2021-10-27 10:02:20</td>\n",
       "      <td>HW1</td>\n",
       "      <td>160724</td>\n",
       "    </tr>\n",
       "    <tr>\n",
       "      <th>5</th>\n",
       "      <td>dblab_hw1_97243081</td>\n",
       "      <td>2022-05-09 16:06:07.301669</td>\n",
       "      <td>.docx</td>\n",
       "      <td>2021-11-01 23:39:07.201535</td>\n",
       "      <td>HW1</td>\n",
       "      <td>15497</td>\n",
       "    </tr>\n",
       "    <tr>\n",
       "      <th>...</th>\n",
       "      <td>...</td>\n",
       "      <td>...</td>\n",
       "      <td>...</td>\n",
       "      <td>...</td>\n",
       "      <td>...</td>\n",
       "      <td>...</td>\n",
       "    </tr>\n",
       "    <tr>\n",
       "      <th>665</th>\n",
       "      <td>OS_project</td>\n",
       "      <td>2022-05-09 16:08:13.505031</td>\n",
       "      <td>.pptx</td>\n",
       "      <td>2021-12-29 16:32:49.198159</td>\n",
       "      <td>q1</td>\n",
       "      <td>1086035</td>\n",
       "    </tr>\n",
       "    <tr>\n",
       "      <th>666</th>\n",
       "      <td>azos</td>\n",
       "      <td>2022-05-09 16:08:08.531090</td>\n",
       "      <td>.docx</td>\n",
       "      <td>2021-12-29 16:59:51.543673</td>\n",
       "      <td>q1</td>\n",
       "      <td>12701</td>\n",
       "    </tr>\n",
       "    <tr>\n",
       "      <th>667</th>\n",
       "      <td>danny_detection</td>\n",
       "      <td>2022-05-09 16:08:08.535088</td>\n",
       "      <td>.mp4</td>\n",
       "      <td>2021-12-31 15:33:00.269259</td>\n",
       "      <td>q1</td>\n",
       "      <td>242210066</td>\n",
       "    </tr>\n",
       "    <tr>\n",
       "      <th>668</th>\n",
       "      <td>eraeye bachcheha</td>\n",
       "      <td>2022-05-09 16:08:10.742731</td>\n",
       "      <td>.rar</td>\n",
       "      <td>2021-12-26 12:30:37.984761</td>\n",
       "      <td>q1</td>\n",
       "      <td>183245654</td>\n",
       "    </tr>\n",
       "    <tr>\n",
       "      <th>669</th>\n",
       "      <td>report1_OS_Lab</td>\n",
       "      <td>2022-05-09 16:08:13.721919</td>\n",
       "      <td>.pdf</td>\n",
       "      <td>2022-01-01 00:27:58.841600</td>\n",
       "      <td>q1</td>\n",
       "      <td>1875537</td>\n",
       "    </tr>\n",
       "  </tbody>\n",
       "</table>\n",
       "<p>633 rows × 6 columns</p>\n",
       "</div>"
      ],
      "text/plain": [
       "                    name                    creation format  \\\n",
       "1             EXAM_DBLAB  2022-05-09 16:06:06.967873   .pdf   \n",
       "2    EXAM_DBLAB_97243081  2022-05-09 16:06:07.079806  .docx   \n",
       "3    EXAM_DBLAB_97243081  2022-05-09 16:06:07.197753   .pdf   \n",
       "4            Homework_01  2022-05-09 16:06:07.412600   .pdf   \n",
       "5     dblab_hw1_97243081  2022-05-09 16:06:07.301669  .docx   \n",
       "..                   ...                         ...    ...   \n",
       "665           OS_project  2022-05-09 16:08:13.505031  .pptx   \n",
       "666                 azos  2022-05-09 16:08:08.531090  .docx   \n",
       "667      danny_detection  2022-05-09 16:08:08.535088   .mp4   \n",
       "668     eraeye bachcheha  2022-05-09 16:08:10.742731   .rar   \n",
       "669       report1_OS_Lab  2022-05-09 16:08:13.721919   .pdf   \n",
       "\n",
       "                   modification folder       size  \n",
       "1    2021-12-28 18:43:58.664631   exam     226171  \n",
       "2    2021-12-29 23:56:50.241467   exam      22050  \n",
       "3    2021-12-29 23:57:26.642171   exam     697852  \n",
       "4           2021-10-27 10:02:20    HW1     160724  \n",
       "5    2021-11-01 23:39:07.201535    HW1      15497  \n",
       "..                          ...    ...        ...  \n",
       "665  2021-12-29 16:32:49.198159     q1    1086035  \n",
       "666  2021-12-29 16:59:51.543673     q1      12701  \n",
       "667  2021-12-31 15:33:00.269259     q1  242210066  \n",
       "668  2021-12-26 12:30:37.984761     q1  183245654  \n",
       "669  2022-01-01 00:27:58.841600     q1    1875537  \n",
       "\n",
       "[633 rows x 6 columns]"
      ]
     },
     "execution_count": 5,
     "metadata": {},
     "output_type": "execute_result"
    }
   ],
   "source": [
    "exceptTextFiles = df[df.format != \".txt\"]\n",
    "exceptTextFiles"
   ]
  },
  {
   "cell_type": "markdown",
   "metadata": {},
   "source": [
    "## size histogram of all files exept text files"
   ]
  },
  {
   "cell_type": "code",
   "execution_count": 6,
   "metadata": {},
   "outputs": [
    {
     "data": {
      "image/png": "[encoded data removed]",
      "text/plain": [
       "<Figure size 432x288 with 1 Axes>"
      ]
     },
     "metadata": {
      "needs_background": "light"
     },
     "output_type": "display_data"
    }
   ],
   "source": [
    "plt.hist(exceptTextFiles['size'], color = 'gray', edgecolor = 'black', bins = int(100))\n",
    "plt.title('Histogram of exceptTextFiles size')\n",
    "plt.xlabel('Size') \n",
    "plt.ylabel('Number')\n",
    "plt.savefig('Size histogram of  exceptTextFiles.png')"
   ]
  },
  {
   "cell_type": "markdown",
   "metadata": {},
   "source": [
    "### Create new Col"
   ]
  },
  {
   "cell_type": "code",
   "execution_count": 7,
   "metadata": {},
   "outputs": [],
   "source": [
    "df[\"isChanged\"] = df[\"modification\"] != df[\"creation\"]"
   ]
  },
  {
   "cell_type": "markdown",
   "metadata": {},
   "source": [
    "## size histogram of modificated files"
   ]
  },
  {
   "cell_type": "code",
   "execution_count": 8,
   "metadata": {},
   "outputs": [
    {
     "data": {
      "image/png": "[encoded data removed]",
      "text/plain": [
       "<Figure size 432x288 with 1 Axes>"
      ]
     },
     "metadata": {
      "needs_background": "light"
     },
     "output_type": "display_data"
    }
   ],
   "source": [
    "\n",
    "plt.hist(df[df.isChanged == True]['size'], color = 'gray', edgecolor = 'black', bins = int(50))\n",
    "plt.title('Histogram of modificated files size')\n",
    "plt.xlabel('Size') \n",
    "plt.ylabel('Number')\n",
    "plt.savefig('Size histogram of modificated files.png')"
   ]
  },
  {
   "cell_type": "markdown",
   "metadata": {},
   "source": [
    "## format histogram"
   ]
  },
  {
   "cell_type": "code",
   "execution_count": 9,
   "metadata": {},
   "outputs": [
    {
     "data": {
      "image/png": "[encoded data removed]",
      "text/plain": [
       "<Figure size 432x288 with 1 Axes>"
      ]
     },
     "metadata": {
      "needs_background": "light"
     },
     "output_type": "display_data"
    }
   ],
   "source": [
    "plt.hist(df['format'], color = 'gray', edgecolor = 'black')\n",
    "plt.title('format histogram')\n",
    "plt.xlabel('Format'); plt.ylabel('Number');\n",
    "plt.savefig('format histogram.png')"
   ]
  },
  {
   "cell_type": "markdown",
   "metadata": {},
   "source": [
    "## size density\n"
   ]
  },
  {
   "cell_type": "code",
   "execution_count": 10,
   "metadata": {},
   "outputs": [
    {
     "data": {
      "image/png": "[encoded data removed]",
      "text/plain": [
       "<Figure size 432x288 with 1 Axes>"
      ]
     },
     "metadata": {
      "needs_background": "light"
     },
     "output_type": "display_data"
    }
   ],
   "source": [
    "df['size'].plot.density()\n",
    "plt.title('density of size')\n",
    "plt.xlabel('Size') \n",
    "plt.ylabel('Number')\n",
    "plt.savefig('density of size.png')"
   ]
  },
  {
   "cell_type": "markdown",
   "metadata": {},
   "source": [
    "## Scatter of name-format"
   ]
  },
  {
   "cell_type": "code",
   "execution_count": 11,
   "metadata": {},
   "outputs": [
    {
     "data": {
      "image/png": "[encoded data removed]",
      "text/plain": [
       "<Figure size 432x288 with 1 Axes>"
      ]
     },
     "metadata": {
      "needs_background": "light"
     },
     "output_type": "display_data"
    }
   ],
   "source": [
    "plt.scatter(x = df.name , y = df.format)\n",
    "plt.title('Scatter of name-format')\n",
    "plt.xlabel('name') \n",
    "plt.ylabel('Format')\n",
    "plt.savefig('Scatter of name-format.png')"
   ]
  },
  {
   "cell_type": "code",
   "execution_count": null,
   "metadata": {},
   "outputs": [],
   "source": []
  }
 ],
 "metadata": {
  "colab": {
   "collapsed_sections": [],
   "name": "ReadFiles.ipynb",
   "provenance": []
  },
  "kernelspec": {
   "display_name": "Python 3 (ipykernel)",
   "language": "python",
   "name": "python3"
  },
  "language_info": {
   "codemirror_mode": {
    "name": "ipython",
    "version": 3
   },
   "file_extension": ".py",
   "mimetype": "text/x-python",
   "name": "python",
   "nbconvert_exporter": "python",
   "pygments_lexer": "ipython3",
   "version": "3.10.2"
  }
 },
 "nbformat": 4,
 "nbformat_minor": 1
}
